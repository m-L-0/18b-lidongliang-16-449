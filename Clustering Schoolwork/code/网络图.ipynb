{
 "cells": [
  {
   "cell_type": "code",
   "execution_count": 2,
   "metadata": {},
   "outputs": [
    {
     "name": "stdout",
     "output_type": "stream",
     "text": [
      "Using matplotlib backend: Qt5Agg\n"
     ]
    }
   ],
   "source": [
    "%matplotlib"
   ]
  },
  {
   "cell_type": "code",
   "execution_count": 3,
   "metadata": {},
   "outputs": [],
   "source": [
    "import networkx as nx\n",
    "import matplotlib.pyplot as plt\n",
    "import pandas as pd\n",
    "import numpy as np\n",
    "from sklearn.datasets.samples_generator import make_blobs\n",
    "X, y = make_blobs(n_samples=150, centers=[(1,14),(7.5,1),(14,14)], n_features=2,cluster_std=[3.0,3.0,3.0],random_state=0,shuffle=False)\n",
    "x=np.array(X)\n",
    "#字典pos储存150个点的坐标\n",
    "pos={}\n",
    "for i in range(1,151):\n",
    "    pos[i]=x[i-1]"
   ]
  },
  {
   "cell_type": "code",
   "execution_count": 5,
   "metadata": {},
   "outputs": [],
   "source": [
    "data=pd.read_csv('similarity.csv',index_col=0)\n",
    "data=np.array(data)\n",
    "G = nx.Graph()\n",
    "#参加节点\n",
    "for i in range(1,151):\n",
    "    G.add_node(i)\n",
    "#参加边\n",
    "for i in range(1,150):\n",
    "    for j  in range(i,150):\n",
    "        if data[i][j] != 0:\n",
    "            G.add_edge(i,j,weight=data[i][j])\n",
    "#按簇将节点区分         \n",
    "nodes1=[i for i in range(1,51)]\n",
    "nodes2=[i for i in range(51,101)]\n",
    "nodes3=[i for i in range(101,151)]\n",
    "#按权重将边区分\n",
    "edge1 = [(u, v) for (u, v, d) in G.edges(data=True) if d['weight'] >= 0.9274]\n",
    "edge2 = [(u, v) for (u, v, d) in G.edges(data=True) if (d['weight'] < 0.9274) & (d['weight'] > 0.8)]\n",
    "edge3 = [(u, v) for (u, v, d) in G.edges(data=True) if d['weight'] <= 0.8]\n",
    "#标记点\n",
    "nx.draw_networkx_nodes(G, pos, node_size=20,nodelist=nodes1,node_shape='s')\n",
    "nx.draw_networkx_nodes(G, pos, node_size=20,nodelist=nodes2,node_shape='o')\n",
    "nx.draw_networkx_nodes(G, pos, node_size=20,nodelist=nodes3,node_shape='>')\n",
    "#标记边\n",
    "nx.draw_networkx_edges(G, pos, edgelist=edge1,alpha=0.8,\n",
    "                       width=2)\n",
    "nx.draw_networkx_edges(G, pos, edgelist=edge2,\n",
    "                       width=1, alpha=0.5, edge_color='gray')\n",
    "nx.draw_networkx_edges(G, pos, edgelist=edge3,\n",
    "                       width=1, alpha=0.5, edge_color='gray', style='dashed')\n",
    "plt.show()"
   ]
  },
  {
   "cell_type": "code",
   "execution_count": null,
   "metadata": {},
   "outputs": [],
   "source": []
  }
 ],
 "metadata": {
  "kernelspec": {
   "display_name": "Python 3",
   "language": "python",
   "name": "python3"
  },
  "language_info": {
   "codemirror_mode": {
    "name": "ipython",
    "version": 3
   },
   "file_extension": ".py",
   "mimetype": "text/x-python",
   "name": "python",
   "nbconvert_exporter": "python",
   "pygments_lexer": "ipython3",
   "version": "3.6.4"
  }
 },
 "nbformat": 4,
 "nbformat_minor": 2
}
