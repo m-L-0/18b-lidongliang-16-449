{
 "cells": [
  {
   "cell_type": "code",
   "execution_count": 1,
   "metadata": {},
   "outputs": [
    {
     "name": "stdout",
     "output_type": "stream",
     "text": [
      "Using matplotlib backend: Qt5Agg\n"
     ]
    }
   ],
   "source": [
    "%matplotlib"
   ]
  },
  {
   "cell_type": "code",
   "execution_count": 2,
   "metadata": {},
   "outputs": [],
   "source": [
    "import pandas as pd\n",
    "import numpy as np\n",
    "import random\n",
    "import matplotlib.pyplot as plt\n",
    "#随机产生三个0-150的整数，返回列表\n",
    "def randomindex():\n",
    "    return [random.randint(51,150) for i in range(3)]\n",
    "#穿入质心，完成分类\n",
    "def cluster(conter):\n",
    "    Distance=[]\n",
    "    for i in range(150):\n",
    "        temp=[]\n",
    "        for j in range(3):\n",
    "            a=np.subtract(data.iloc[i],conter.iloc[j])\n",
    "            temp.append(np.matmul(a,a))\n",
    "        Distance.append(temp)\n",
    "    #分簇\n",
    "    cluster=[]\n",
    "    for i in range(150):\n",
    "        cluster.append(Distance[i].index(min(Distance[i])))\n",
    "    return np.array(cluster),Distance\n",
    "#传入分簇结果，更新质心\n",
    "def ChangeCenter(cluster):\n",
    "    conter_next=np.zeros([3,2])\n",
    "    conter_next[0]=np.sum(data[cluster==0])\n",
    "    conter_next[1]=np.sum(data[cluster==1])\n",
    "    conter_next[2]= np.sum(data[cluster==2])\n",
    "    conter_next[0]/=np.sum(cluster==0) if np.sum(cluster==0)!=0 else 1\n",
    "    conter_next[1]/=np.sum(cluster==1) if np.sum(cluster==1)!=0 else 1\n",
    "    conter_next[2]/=np.sum(cluster==2) if np.sum(cluster==2)!=0 else 1\n",
    "    return pd.DataFrame(conter_next)\n",
    "\n",
    "data=pd.read_csv('PCA-data.csv',index_col=0)\n",
    "index=randomindex()\n",
    "#随机质心\n",
    "conter=data.iloc[index]\n",
    "#迭代更新质心\n",
    "while True:\n",
    "    cluster_frist,D1=cluster(conter)\n",
    "    conter_next=ChangeCenter(cluster_frist)\n",
    "    cluster_second,D2=cluster(conter_next)\n",
    "    conter=conter_next\n",
    "    if np.sum(cluster_frist==cluster_second)==150:\n",
    "        break\n",
    "#画图        \n",
    "plt.figure(1)\n",
    "plt.clf()\n",
    "color=['r','b','g']\n",
    "for i,c in zip(range(3),color):\n",
    "    labels=cluster_frist==i\n",
    "    plt.scatter(data.iloc[labels,0], data.iloc[labels,1], marker='o',c=c)\n",
    "plt.show()        "
   ]
  },
  {
   "cell_type": "code",
   "execution_count": null,
   "metadata": {},
   "outputs": [],
   "source": []
  }
 ],
 "metadata": {
  "kernelspec": {
   "display_name": "Python 3",
   "language": "python",
   "name": "python3"
  },
  "language_info": {
   "codemirror_mode": {
    "name": "ipython",
    "version": 3
   },
   "file_extension": ".py",
   "mimetype": "text/x-python",
   "name": "python",
   "nbconvert_exporter": "python",
   "pygments_lexer": "ipython3",
   "version": "3.6.4"
  }
 },
 "nbformat": 4,
 "nbformat_minor": 2
}
