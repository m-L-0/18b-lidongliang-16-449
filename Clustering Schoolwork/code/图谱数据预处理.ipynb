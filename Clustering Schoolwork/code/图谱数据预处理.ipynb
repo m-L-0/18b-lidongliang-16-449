{
 "cells": [
  {
   "cell_type": "code",
   "execution_count": 1,
   "metadata": {},
   "outputs": [],
   "source": [
    "#文件——图谱数据预处理.py\n",
    "from sklearn.datasets import load_iris\n",
    "import numpy as np\n",
    "import pandas as pd\n",
    "data = load_iris()\n",
    "x=data.data\n",
    "y=data.target\n",
    "#先算相似度矩阵\n",
    "similarity=np.zeros([150,150])\n",
    "for i in range(150):\n",
    "    a=x[i]\n",
    "    for j in range(i+1,150):\n",
    "        b=x[j]\n",
    "        A=a-b\n",
    "        similarity[i][j]=similarity[j][i]=np.exp(-np.matmul(A,A)) "
   ]
  },
  {
   "cell_type": "code",
   "execution_count": 2,
   "metadata": {},
   "outputs": [],
   "source": [
    "#文件——图谱数据预处理.py\n",
    "ttt=0.777\n",
    "similarity[similarity<ttt]=0"
   ]
  },
  {
   "cell_type": "code",
   "execution_count": 3,
   "metadata": {},
   "outputs": [
    {
     "name": "stderr",
     "output_type": "stream",
     "text": [
      "D:\\Anaconda\\lib\\site-packages\\ipykernel_launcher.py:9: RuntimeWarning: divide by zero encountered in true_divide\n",
      "  if __name__ == '__main__':\n"
     ]
    }
   ],
   "source": [
    "#计算度数矩阵\n",
    "Degree=np.zeros([150,150])\n",
    "for i in range(150):\n",
    "    Degree[i][i]=np.sum(similarity[i])\n",
    "#计算拉普拉斯矩阵\n",
    "Laplace=Degree-similarity\n",
    "#用归一割\n",
    "#计算非归一化对称拉普拉斯矩阵\n",
    "Degree_sqrt=1/Degree\n",
    "Degree_sqrt[Degree_sqrt==np.Inf]=0\n",
    "toone_Laplace=np.matmul(Degree_sqrt,Laplace)\n",
    "#求非归一化对称拉普拉斯矩阵的特征值和特征向量\n",
    "eigenvalue,eigenvector=np.linalg.eig(toone_Laplace)\n",
    "temp=pd.Series(eigenvalue)\n",
    "#选择最小的k个特征值对应的特征向量\n",
    "mineigvector=eigenvector[:,[5,6,7,8,1,31,35,34,20,0,19,149,147,148,146,145,144]]\n",
    "#单位化\n",
    "for i in range(150):\n",
    "    T=np.sqrt(np.matmul(mineigvector[i],mineigvector[i]))\n",
    "    mineigvector[i]=mineigvector[i]/T\n",
    "#存储为文件\n",
    "Clustering_data=pd.DataFrame(mineigvector)\n",
    "Clustering_data.to_csv('Clustering_data.csv')"
   ]
  },
  {
   "cell_type": "code",
   "execution_count": null,
   "metadata": {},
   "outputs": [],
   "source": []
  }
 ],
 "metadata": {
  "kernelspec": {
   "display_name": "Python 3",
   "language": "python",
   "name": "python3"
  },
  "language_info": {
   "codemirror_mode": {
    "name": "ipython",
    "version": 3
   },
   "file_extension": ".py",
   "mimetype": "text/x-python",
   "name": "python",
   "nbconvert_exporter": "python",
   "pygments_lexer": "ipython3",
   "version": "3.6.4"
  }
 },
 "nbformat": 4,
 "nbformat_minor": 2
}
