{
 "cells": [
  {
   "cell_type": "code",
   "execution_count": 2,
   "metadata": {},
   "outputs": [
    {
     "name": "stdout",
     "output_type": "stream",
     "text": [
      "Using matplotlib backend: Qt5Agg\n"
     ]
    }
   ],
   "source": [
    "%matplotlib"
   ]
  },
  {
   "cell_type": "code",
   "execution_count": 3,
   "metadata": {},
   "outputs": [],
   "source": [
    "import matplotlib.pyplot as plt\n",
    "import pandas as pd\n",
    "from sklearn.datasets import load_iris\n",
    "from sklearn.decomposition import PCA\n",
    "iris = load_iris()\n",
    "y = iris.target\n",
    "X=pd.read_csv('Clustering_data.csv',index_col=0)\n",
    "#降维\n",
    "n_components = 2\n",
    "pca = PCA(n_components=n_components)\n",
    "X_transformed = pca.fit_transform(X)\n",
    "#绘图\n",
    "colors = ['navy', 'turquoise', 'darkorange']\n",
    "title=\"PCA\"\n",
    "plt.figure(figsize=(8, 8))\n",
    "for color, i, target_name in zip(colors, [0, 1, 2], iris.target_names):\n",
    "    plt.scatter(X_transformed[y == i, 0], X_transformed[y == i, 1],\n",
    "                color=color, lw=2, label=target_name)\n",
    "plt.legend(loc=\"best\", shadow=False, scatterpoints=1)\n",
    "plt.title(title + \" of iris dataset\")\n",
    "#plt.axis([-4, 4, -1.5, 1.5])\n",
    "plt.show()\n",
    "d=pd.DataFrame(X_transformed)\n",
    "d.to_csv('PCA-data.csv')"
   ]
  },
  {
   "cell_type": "code",
   "execution_count": null,
   "metadata": {},
   "outputs": [],
   "source": []
  }
 ],
 "metadata": {
  "kernelspec": {
   "display_name": "Python 3",
   "language": "python",
   "name": "python3"
  },
  "language_info": {
   "codemirror_mode": {
    "name": "ipython",
    "version": 3
   },
   "file_extension": ".py",
   "mimetype": "text/x-python",
   "name": "python",
   "nbconvert_exporter": "python",
   "pygments_lexer": "ipython3",
   "version": "3.6.4"
  }
 },
 "nbformat": 4,
 "nbformat_minor": 2
}
