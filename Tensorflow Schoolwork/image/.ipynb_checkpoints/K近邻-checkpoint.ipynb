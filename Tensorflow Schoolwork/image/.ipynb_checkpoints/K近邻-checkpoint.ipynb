{
 "cells": [
  {
   "cell_type": "code",
   "execution_count": 1,
   "metadata": {},
   "outputs": [
    {
     "name": "stderr",
     "output_type": "stream",
     "text": [
      "D:\\Anaconda\\lib\\site-packages\\h5py\\__init__.py:36: FutureWarning: Conversion of the second argument of issubdtype from `float` to `np.floating` is deprecated. In future, it will be treated as `np.float64 == np.dtype(float).type`.\n",
      "  from ._conv import register_converters as _register_converters\n"
     ]
    }
   ],
   "source": [
    "import tensorflow as tf\n",
    "from sklearn.datasets import load_iris\n",
    "from sklearn import model_selection\n",
    "import numpy as np\n",
    "#开启eager模式\n",
    "tf.enable_eager_execution()"
   ]
  },
  {
   "cell_type": "code",
   "execution_count": 2,
   "metadata": {},
   "outputs": [],
   "source": [
    "#导入数据\n",
    "data = load_iris()\n",
    "x=data.data\n",
    "y=data.target"
   ]
  },
  {
   "cell_type": "code",
   "execution_count": 3,
   "metadata": {},
   "outputs": [],
   "source": [
    "#分割数据集\n",
    "X_train, X_test, y_train, y_test = model_selection.train_test_split(x, y, test_size=0.2, shuffle=True)"
   ]
  },
  {
   "cell_type": "code",
   "execution_count": 33,
   "metadata": {},
   "outputs": [],
   "source": [
    "#求决策点到样本的距离\n",
    "#求第i个就传入i\n",
    "#返回每个样本到第i个样本的L2距离的numpy.darray\n",
    "def Distance(i,train):\n",
    "    A=X_train-train[i]\n",
    "    TensorDistance=tf.reduce_sum(tf.multiply(A,A),1)\n",
    "    distance=[*TensorDistance.numpy()]\n",
    "    distance[i]=np.inf\n",
    "    return distance\n",
    "#找到K个近的索引\n",
    "#传入你要找第i个点的K个近邻\n",
    "#返回K个近邻的索引列表\n",
    "def KNeighboring(train,i,K):\n",
    "    index=[]\n",
    "    distance=Distance(i,train)\n",
    "    for i in range(K):\n",
    "        temp=distance.index(min(distance))\n",
    "        index.append(temp)\n",
    "        distance[temp]=np.inf\n",
    "    return index\n",
    "#胜者为王\n",
    "#传入K个近邻的索引\n",
    "#返回决策结果\n",
    "def Decision(index):\n",
    "    labels=y_train[index]\n",
    "    Set=set(labels.tolist())\n",
    "    result={}\n",
    "    for i in Set:\n",
    "        result[i]=np.sum(labels==i)\n",
    "    maxvalue=max(result.values())\n",
    "    for i in Set:\n",
    "        if result[i]==maxvalue:\n",
    "            return i"
   ]
  },
  {
   "cell_type": "code",
   "execution_count": 34,
   "metadata": {},
   "outputs": [],
   "source": [
    "#寻找最优K值\n",
    "#我们让K的取值为1-20\n",
    "K=[i for i in range(1,21)]\n",
    "Accuracy=[]\n",
    "for k in K:\n",
    "    Result=[]\n",
    "    for i in range(len(X_train)):\n",
    "        index=KNeighboring(X_train,i,k)\n",
    "        result=Decision(index,y_train)\n",
    "        Result.append(result)\n",
    "    right=tf.reduce_sum((y_train==Result).astype(int),0).numpy()\n",
    "    accuracy=right/len(X_train)\n",
    "    Accuracy.append(accuracy)"
   ]
  },
  {
   "cell_type": "code",
   "execution_count": 35,
   "metadata": {},
   "outputs": [
    {
     "name": "stdout",
     "output_type": "stream",
     "text": [
      "Using matplotlib backend: Qt5Agg\n"
     ]
    }
   ],
   "source": [
    "#可视化\n",
    "%matplotlib\n",
    "import matplotlib.pyplot as plt\n",
    "plt.plot(K, Accuracy,'r',marker='o')  #关键句,前两个参数是X、Y轴数据,其他参数指定曲线属性，如标签label，颜色color,线宽linewidth或lw,点标记marker\n",
    "plt.xlabel('K')\n",
    "plt.ylabel('Accuracy')\n",
    "plt.title('Accuracy of K')\n",
    "plt.locator_params('x',nbins=40)\n",
    "plt.show()"
   ]
  },
  {
   "cell_type": "code",
   "execution_count": 46,
   "metadata": {},
   "outputs": [
    {
     "name": "stdout",
     "output_type": "stream",
     "text": [
      "[0, 1, 0, 0, 1, 0, 0, 0, 1, 1, 0, 1, 0, 0, 0, 2, 1, 0, 1, 1, 0, 1, 2, 0, 0, 2, 1, 2, 1, 2]\n",
      "29\n",
      "[0, 1, 0, 0, 1, 0, 0, 0, 1, 1, 0, 1, 0, 0, 0, 2, 1, 0, 1, 1, 0, 1, 2, 0, 0, 1, 1, 2, 1, 2]\n",
      "28\n"
     ]
    }
   ],
   "source": [
    "#我们发现K取4和6时都是正确率取最大值\n",
    "#于是我们在用验证集测试4和6那个更优秀\n",
    "K=[4,6]\n",
    "Accuracy=[]\n",
    "for k in K:\n",
    "    Result=[]\n",
    "    for i in range(len(X_test)):\n",
    "        index=KNeighboring(X_test,i,k)\n",
    "        result=Decision(index,y_test)\n",
    "        Result.append(result)\n",
    "    print(Result)\n",
    "    right=tf.reduce_sum((y_test==Result).astype(int),0).numpy()\n",
    "    print(right)\n",
    "    accuracy=right/len(X_test)\n",
    "    Accuracy.append(accuracy)"
   ]
  },
  {
   "cell_type": "code",
   "execution_count": 47,
   "metadata": {},
   "outputs": [
    {
     "name": "stdout",
     "output_type": "stream",
     "text": [
      "[0.9666666666666667, 0.9333333333333333]\n"
     ]
    }
   ],
   "source": [
    "print(Accuracy)"
   ]
  },
  {
   "cell_type": "code",
   "execution_count": null,
   "metadata": {},
   "outputs": [],
   "source": [
    "#对于测试集K=4 比K=6的精准度要高\n",
    "#所以我们选择K=4\n",
    "#所以我们"
   ]
  },
  {
   "cell_type": "code",
   "execution_count": null,
   "metadata": {},
   "outputs": [],
   "source": []
  },
  {
   "cell_type": "code",
   "execution_count": null,
   "metadata": {},
   "outputs": [],
   "source": []
  }
 ],
 "metadata": {
  "kernelspec": {
   "display_name": "Python 3",
   "language": "python",
   "name": "python3"
  },
  "language_info": {
   "codemirror_mode": {
    "name": "ipython",
    "version": 3
   },
   "file_extension": ".py",
   "mimetype": "text/x-python",
   "name": "python",
   "nbconvert_exporter": "python",
   "pygments_lexer": "ipython3",
   "version": "3.6.4"
  }
 },
 "nbformat": 4,
 "nbformat_minor": 2
}
