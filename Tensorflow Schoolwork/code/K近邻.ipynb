{
 "cells": [
  {
   "cell_type": "code",
   "execution_count": 22,
   "metadata": {},
   "outputs": [],
   "source": [
    "import tensorflow as tf\n",
    "from sklearn.datasets import load_iris\n",
    "from sklearn import model_selection\n",
    "import numpy as np\n",
    "#开启eager模式\n",
    "tf.enable_eager_execution()"
   ]
  },
  {
   "cell_type": "code",
   "execution_count": 23,
   "metadata": {},
   "outputs": [],
   "source": [
    "#导入数据\n",
    "data = load_iris()\n",
    "x=data.data\n",
    "y=data.target"
   ]
  },
  {
   "cell_type": "code",
   "execution_count": 24,
   "metadata": {},
   "outputs": [],
   "source": [
    "#分割数据集\n",
    "X_train, X_test, y_train, y_test = model_selection.train_test_split(x, y, test_size=0.2, shuffle=True)"
   ]
  },
  {
   "cell_type": "code",
   "execution_count": 28,
   "metadata": {},
   "outputs": [],
   "source": [
    "#求决策点到样本的距离\n",
    "#求第i个就传入i\n",
    "#返回每个样本到第i个样本的L2距离的numpy.darray\n",
    "def Distance(i):\n",
    "    A=X_train-X_test[i]\n",
    "    TensorDistance=tf.reduce_sum(tf.multiply(A,A),1)\n",
    "    distance=[*TensorDistance.numpy()]\n",
    "    distance[i]=np.inf\n",
    "    return distance\n",
    "#找到K个近的索引\n",
    "#传入你要找第i个点的K个近邻\n",
    "#返回K个近邻的索引列表\n",
    "def KNeighboring(i,K):\n",
    "    index=[]\n",
    "    distance=Distance(i)\n",
    "    for i in range(K):\n",
    "        temp=distance.index(min(distance))\n",
    "        index.append(temp)\n",
    "        distance[temp]=np.inf\n",
    "    return index\n",
    "#胜者为王\n",
    "#传入K个近邻的索引\n",
    "#返回决策结果\n",
    "def Decision(index):\n",
    "    labels=y_train[index]\n",
    "    Set=set(labels.tolist())\n",
    "    result={}\n",
    "    for i in Set:\n",
    "        result[i]=np.sum(labels==i)\n",
    "    maxvalue=max(result.values())\n",
    "    for i in Set:\n",
    "        if result[i]==maxvalue:\n",
    "            return i"
   ]
  },
  {
   "cell_type": "code",
   "execution_count": 34,
   "metadata": {},
   "outputs": [
    {
     "name": "stdout",
     "output_type": "stream",
     "text": [
      "[0, 0, 1, 1, 0, 0, 2, 2, 1, 2, 0, 0, 1, 1, 2, 1, 2, 1, 0, 1, 2, 1, 0, 2, 2, 0, 1, 2, 0, 1]\n",
      "28\n",
      "[0, 0, 1, 1, 0, 0, 2, 2, 1, 2, 0, 0, 1, 1, 2, 1, 2, 1, 0, 1, 2, 1, 0, 2, 2, 0, 1, 2, 0, 1]\n",
      "28\n",
      "[0, 0, 1, 1, 0, 0, 2, 2, 1, 2, 0, 0, 1, 2, 2, 1, 2, 1, 0, 1, 2, 1, 0, 2, 2, 0, 1, 2, 0, 1]\n",
      "29\n",
      "[0, 0, 1, 1, 0, 0, 2, 2, 1, 2, 0, 0, 1, 2, 2, 1, 2, 1, 0, 1, 2, 1, 0, 2, 2, 0, 1, 2, 0, 1]\n",
      "29\n",
      "[0, 0, 1, 1, 0, 0, 2, 2, 1, 2, 0, 0, 1, 2, 2, 1, 2, 1, 0, 1, 2, 1, 0, 2, 2, 0, 1, 2, 0, 1]\n",
      "29\n",
      "[0, 0, 1, 1, 0, 0, 2, 2, 1, 2, 0, 0, 1, 2, 2, 1, 2, 1, 0, 1, 2, 1, 0, 2, 2, 0, 1, 2, 0, 1]\n",
      "29\n",
      "[0, 0, 1, 1, 0, 0, 2, 2, 1, 2, 0, 0, 1, 2, 2, 1, 2, 1, 0, 1, 2, 1, 0, 2, 2, 0, 1, 2, 0, 1]\n",
      "29\n",
      "[0, 0, 1, 1, 0, 0, 2, 2, 1, 2, 0, 0, 1, 2, 2, 1, 2, 1, 0, 1, 2, 1, 0, 2, 2, 0, 1, 2, 0, 1]\n",
      "29\n",
      "[0, 0, 1, 1, 0, 0, 2, 2, 1, 2, 0, 0, 1, 2, 2, 1, 2, 1, 0, 1, 2, 1, 0, 2, 2, 0, 1, 2, 0, 1]\n",
      "29\n",
      "[0, 0, 1, 1, 0, 0, 2, 2, 1, 2, 0, 0, 1, 2, 2, 1, 2, 1, 0, 1, 2, 1, 0, 2, 2, 0, 1, 2, 0, 1]\n",
      "29\n",
      "[0, 0, 1, 1, 0, 0, 2, 2, 1, 2, 0, 0, 1, 2, 2, 1, 2, 1, 0, 1, 2, 1, 0, 2, 2, 0, 1, 2, 0, 1]\n",
      "29\n",
      "[0, 0, 1, 1, 0, 0, 2, 2, 1, 2, 0, 0, 1, 2, 2, 1, 2, 1, 0, 1, 2, 1, 0, 2, 2, 0, 1, 2, 0, 1]\n",
      "29\n",
      "[0, 0, 1, 1, 0, 0, 2, 2, 1, 2, 0, 0, 1, 2, 2, 1, 2, 1, 0, 1, 2, 1, 0, 2, 2, 0, 1, 2, 0, 1]\n",
      "29\n",
      "[0, 0, 1, 1, 0, 0, 2, 2, 1, 2, 0, 0, 1, 2, 2, 1, 2, 1, 0, 1, 2, 1, 0, 2, 2, 0, 1, 2, 0, 1]\n",
      "29\n",
      "[0, 0, 1, 1, 0, 0, 2, 2, 1, 2, 0, 0, 1, 2, 2, 1, 2, 1, 0, 1, 2, 1, 0, 2, 2, 0, 1, 2, 0, 1]\n",
      "29\n",
      "[0, 0, 1, 1, 0, 0, 2, 2, 1, 2, 0, 0, 1, 2, 1, 1, 2, 1, 0, 1, 2, 1, 0, 2, 2, 0, 1, 2, 0, 1]\n",
      "28\n",
      "[0, 0, 1, 1, 0, 0, 2, 2, 1, 2, 0, 0, 1, 2, 2, 1, 2, 1, 0, 1, 2, 1, 0, 2, 2, 0, 1, 2, 0, 1]\n",
      "29\n",
      "[0, 0, 1, 1, 0, 0, 2, 2, 1, 2, 0, 0, 1, 2, 2, 1, 2, 1, 0, 1, 2, 1, 0, 2, 2, 0, 1, 2, 0, 1]\n",
      "29\n",
      "[0, 0, 1, 1, 0, 0, 2, 2, 1, 2, 0, 0, 1, 2, 2, 1, 2, 1, 0, 1, 2, 1, 0, 2, 2, 0, 1, 2, 0, 1]\n",
      "29\n",
      "[0, 0, 1, 1, 0, 0, 2, 2, 1, 2, 0, 0, 1, 2, 1, 1, 2, 1, 0, 1, 2, 1, 0, 2, 2, 0, 1, 2, 0, 1]\n",
      "28\n"
     ]
    }
   ],
   "source": [
    "#寻找最优K值\n",
    "#我们让K的取值为1-20\n",
    "K=[i for i in range(1,21)]\n",
    "Accuracy=[]\n",
    "for k in K:\n",
    "    Result=[]\n",
    "    for i in range(len(X_test)):\n",
    "        index=KNeighboring(i,k)\n",
    "        result=Decision(index)\n",
    "        Result.append(result)\n",
    "    print(Result)\n",
    "    right=tf.reduce_sum((y_test==Result).astype(int),0).numpy()\n",
    "    print(right)\n",
    "    accuracy=right/len(X_test)\n",
    "    Accuracy.append(accuracy)"
   ]
  },
  {
   "cell_type": "code",
   "execution_count": 39,
   "metadata": {},
   "outputs": [
    {
     "name": "stdout",
     "output_type": "stream",
     "text": [
      "Using matplotlib backend: Qt5Agg\n"
     ]
    }
   ],
   "source": [
    "#可视化\n",
    "%matplotlib\n",
    "import matplotlib.pyplot as plt\n",
    "plt.plot(K, Accuracy,'r',marker='o')  #关键句,前两个参数是X、Y轴数据,其他参数指定曲线属性，如标签label，颜色color,线宽linewidth或lw,点标记marker\n",
    "plt.xlabel('K')\n",
    "plt.ylabel('Accuracy')\n",
    "plt.title('Accuracy of K')\n",
    "plt.locator_params('x',nbins=40)\n",
    "plt.locator_params('y',nbins=20)\n",
    "plt.show()"
   ]
  },
  {
   "cell_type": "code",
   "execution_count": null,
   "metadata": {},
   "outputs": [],
   "source": []
  }
 ],
 "metadata": {
  "kernelspec": {
   "display_name": "Python 3",
   "language": "python",
   "name": "python3"
  },
  "language_info": {
   "codemirror_mode": {
    "name": "ipython",
    "version": 3
   },
   "file_extension": ".py",
   "mimetype": "text/x-python",
   "name": "python",
   "nbconvert_exporter": "python",
   "pygments_lexer": "ipython3",
   "version": "3.6.4"
  }
 },
 "nbformat": 4,
 "nbformat_minor": 2
}
